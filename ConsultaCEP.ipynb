{
  "nbformat": 4,
  "nbformat_minor": 0,
  "metadata": {
    "colab": {
      "provenance": [],
      "authorship_tag": "ABX9TyNeKrG7GrythIoLm8t8OEYM",
      "include_colab_link": true
    },
    "kernelspec": {
      "name": "python3",
      "display_name": "Python 3"
    },
    "language_info": {
      "name": "python"
    }
  },
  "cells": [
    {
      "cell_type": "markdown",
      "metadata": {
        "id": "view-in-github",
        "colab_type": "text"
      },
      "source": [
        "<a href=\"https://colab.research.google.com/github/mztavares/CheckpointWeb/blob/main/ConsultaCEP.ipynb\" target=\"_parent\"><img src=\"https://colab.research.google.com/assets/colab-badge.svg\" alt=\"Open In Colab\"/></a>"
      ]
    },
    {
      "cell_type": "markdown",
      "source": [
        "# Bibliotecas"
      ],
      "metadata": {
        "id": "mtGEhP2enFxe"
      }
    },
    {
      "cell_type": "code",
      "source": [
        "import requests\n",
        "\n"
      ],
      "metadata": {
        "id": "wKxLfSPjnFO0"
      },
      "execution_count": null,
      "outputs": []
    },
    {
      "cell_type": "markdown",
      "source": [
        "# Execução"
      ],
      "metadata": {
        "id": "ZruzUzDbnCms"
      }
    },
    {
      "cell_type": "code",
      "execution_count": null,
      "metadata": {
        "id": "r32T9Hram2-a"
      },
      "outputs": [],
      "source": [
        "def consultar_cep(cep):\n",
        "    url = f\"https://viacep.com.br/ws/{cep}/json/\"\n",
        "    resposta = requests.get(url)\n",
        "    if resposta.status_code == 200:\n",
        "        return resposta#.json()\n",
        "    else:\n",
        "        raise ValueError(\"Erro ao consultar o CEP.\")"
      ]
    },
    {
      "cell_type": "code",
      "source": [
        "consultar_cep(\"04121000\").json().get(\"logradouro\")"
      ],
      "metadata": {
        "colab": {
          "base_uri": "https://localhost:8080/",
          "height": 35
        },
        "id": "az9UWecGm5Us",
        "outputId": "011ced18-ebd8-432e-e732-a5f045ee1120"
      },
      "execution_count": null,
      "outputs": [
        {
          "output_type": "execute_result",
          "data": {
            "text/plain": [
              "'Rua Santa Cruz'"
            ],
            "application/vnd.google.colaboratory.intrinsic+json": {
              "type": "string"
            }
          },
          "metadata": {},
          "execution_count": 28
        }
      ]
    },
    {
      "cell_type": "code",
      "source": [
        "consultar_cep(\"04121001\").json()"
      ],
      "metadata": {
        "colab": {
          "base_uri": "https://localhost:8080/"
        },
        "id": "OGPv7rFqnpLX",
        "outputId": "70ae48de-7958-4d8e-fbc9-9440f481de57"
      },
      "execution_count": null,
      "outputs": [
        {
          "output_type": "execute_result",
          "data": {
            "text/plain": [
              "{'cep': '04121-001',\n",
              " 'logradouro': 'Rua Santa Cruz',\n",
              " 'complemento': 'de 983 a 1799 - lado ímpar',\n",
              " 'unidade': '',\n",
              " 'bairro': 'Vila Mariana',\n",
              " 'localidade': 'São Paulo',\n",
              " 'uf': 'SP',\n",
              " 'estado': 'São Paulo',\n",
              " 'regiao': 'Sudeste',\n",
              " 'ibge': '3550308',\n",
              " 'gia': '1004',\n",
              " 'ddd': '11',\n",
              " 'siafi': '7107'}"
            ]
          },
          "metadata": {},
          "execution_count": 36
        }
      ]
    },
    {
      "cell_type": "markdown",
      "source": [
        "## CEP bem aleatório da Lapa"
      ],
      "metadata": {
        "id": "AeO7Bw0irzBF"
      }
    },
    {
      "cell_type": "code",
      "source": [
        "consultar_cep(\"05077-020\").json()"
      ],
      "metadata": {
        "colab": {
          "base_uri": "https://localhost:8080/"
        },
        "id": "MLgVbCUhr0--",
        "outputId": "df6e184c-ae19-45ec-abb1-a3b95fe3328b"
      },
      "execution_count": null,
      "outputs": [
        {
          "output_type": "execute_result",
          "data": {
            "text/plain": [
              "{'cep': '05077-020',\n",
              " 'logradouro': 'Rua Tordesilhas',\n",
              " 'complemento': '',\n",
              " 'unidade': '',\n",
              " 'bairro': 'Lapa',\n",
              " 'localidade': 'São Paulo',\n",
              " 'uf': 'SP',\n",
              " 'estado': 'São Paulo',\n",
              " 'regiao': 'Sudeste',\n",
              " 'ibge': '3550308',\n",
              " 'gia': '1004',\n",
              " 'ddd': '11',\n",
              " 'siafi': '7107'}"
            ]
          },
          "metadata": {},
          "execution_count": 34
        }
      ]
    },
    {
      "cell_type": "markdown",
      "source": [
        "## CEP de AnÓpolis"
      ],
      "metadata": {
        "id": "uqzd_knysSXz"
      }
    },
    {
      "cell_type": "code",
      "source": [
        "consultar_cep(\"75132-120\").json()"
      ],
      "metadata": {
        "colab": {
          "base_uri": "https://localhost:8080/"
        },
        "outputId": "0f6db0e0-e1de-430e-f917-0c2abf380d7a",
        "id": "qUD0SudwsSX2"
      },
      "execution_count": null,
      "outputs": [
        {
          "output_type": "execute_result",
          "data": {
            "text/plain": [
              "{'cep': '75132-120',\n",
              " 'logradouro': 'Rua VP 5D',\n",
              " 'complemento': '',\n",
              " 'unidade': '',\n",
              " 'bairro': 'Distrito Agroindustrial de Anápolis',\n",
              " 'localidade': 'Anápolis',\n",
              " 'uf': 'GO',\n",
              " 'estado': 'Goiás',\n",
              " 'regiao': 'Centro-Oeste',\n",
              " 'ibge': '5201108',\n",
              " 'gia': '',\n",
              " 'ddd': '62',\n",
              " 'siafi': '9221'}"
            ]
          },
          "metadata": {},
          "execution_count": 37
        }
      ]
    },
    {
      "cell_type": "markdown",
      "source": [
        "# Quebrando em partes"
      ],
      "metadata": {
        "id": "FhTQsEiXnwWU"
      }
    },
    {
      "cell_type": "code",
      "source": [
        "cep = \"03180090\"\n",
        "\n",
        "cep_03180090 = requests.get(f\"https://viacep.com.br/ws/{cep}/json/\").json()\n",
        "\n",
        "cep_03180090.get(\"logradouro\") + \", \" + cep_03180090.get(\"localidade\") + \", \" + cep_03180090.get(\"uf\")\n"
      ],
      "metadata": {
        "colab": {
          "base_uri": "https://localhost:8080/",
          "height": 35
        },
        "id": "KXyzMa1rnwBz",
        "outputId": "0df53411-739d-4d77-cb69-f6a0791ef881"
      },
      "execution_count": null,
      "outputs": [
        {
          "output_type": "execute_result",
          "data": {
            "text/plain": [
              "'Rua Porto Feliz, São Paulo, SP'"
            ],
            "application/vnd.google.colaboratory.intrinsic+json": {
              "type": "string"
            }
          },
          "metadata": {},
          "execution_count": 27
        }
      ]
    },
    {
      "cell_type": "code",
      "source": [
        "cep_03180090.get(\"bairro\")"
      ],
      "metadata": {
        "colab": {
          "base_uri": "https://localhost:8080/",
          "height": 35
        },
        "id": "FDO1XNNuq1DP",
        "outputId": "9c6f879b-d9d3-4ba3-da2d-1623e7445aea"
      },
      "execution_count": null,
      "outputs": [
        {
          "output_type": "execute_result",
          "data": {
            "text/plain": [
              "'Vila Cláudia'"
            ],
            "application/vnd.google.colaboratory.intrinsic+json": {
              "type": "string"
            }
          },
          "metadata": {},
          "execution_count": 35
        }
      ]
    },
    {
      "cell_type": "markdown",
      "source": [
        "# Exemplo lista"
      ],
      "metadata": {
        "id": "Odd4Jw4Vtkco"
      }
    },
    {
      "cell_type": "code",
      "source": [
        "lista_exemplo_melis = [\n",
        "    \"yara\",\n",
        "    \"yarescão\",\n",
        "    \"antonio\"\n",
        "]\n",
        "\n",
        "for meli in  lista_exemplo_melis:\n",
        "  print(meli)\n",
        "\n",
        "lista_exemplo_melis[0]"
      ],
      "metadata": {
        "colab": {
          "base_uri": "https://localhost:8080/",
          "height": 87
        },
        "id": "gQ6Rjkemtl0Z",
        "outputId": "9edef953-596a-46c8-fd13-55da351aa3dc"
      },
      "execution_count": null,
      "outputs": [
        {
          "output_type": "stream",
          "name": "stdout",
          "text": [
            "yara\n",
            "yarescão\n",
            "antonio\n"
          ]
        },
        {
          "output_type": "execute_result",
          "data": {
            "text/plain": [
              "'yara'"
            ],
            "application/vnd.google.colaboratory.intrinsic+json": {
              "type": "string"
            }
          },
          "metadata": {},
          "execution_count": 40
        }
      ]
    },
    {
      "cell_type": "markdown",
      "source": [
        "# Criar usuários"
      ],
      "metadata": {
        "id": "Cpp27Kx3xvrT"
      }
    },
    {
      "cell_type": "code",
      "source": [
        "lista_usuarios = [\n",
        "        {\"cpf\": \"12345678900\", \"nome\": \"João Silva\", \"cep\": \"01001000\", \"idade\": 30, \"peso\": 75, \"altura\": 1.75},\n",
        "        {\"cpf\": \"98765432100\", \"nome\": \"Maria Souza\", \"cep\": \"04100000\", \"idade\": 28, \"peso\": 65, \"altura\": 1.68}\n",
        "    ]\n",
        "\n",
        "for usuario in lista_usuarios:\n",
        "  usuario[\"bairro\"] = consultar_cep(usuario.get(\"cep\")).json().get(\"bairro\")\n",
        "\n",
        "lista_usuarios"
      ],
      "metadata": {
        "colab": {
          "base_uri": "https://localhost:8080/"
        },
        "id": "rfnw75KqxvSz",
        "outputId": "39edd8ec-4e6e-4c54-f576-ced1ef6f8035"
      },
      "execution_count": null,
      "outputs": [
        {
          "output_type": "execute_result",
          "data": {
            "text/plain": [
              "[{'cpf': '12345678900',\n",
              "  'nome': 'João Silva',\n",
              "  'cep': '01001000',\n",
              "  'idade': 30,\n",
              "  'peso': 75,\n",
              "  'altura': 1.75,\n",
              "  'bairro': 'Sé'},\n",
              " {'cpf': '98765432100',\n",
              "  'nome': 'Maria Souza',\n",
              "  'cep': '04100000',\n",
              "  'idade': 28,\n",
              "  'peso': 65,\n",
              "  'altura': 1.68,\n",
              "  'bairro': None}]"
            ]
          },
          "metadata": {},
          "execution_count": 48
        }
      ]
    }
  ]
}